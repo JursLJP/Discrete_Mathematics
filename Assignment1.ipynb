{
 "cells": [
  {
   "cell_type": "markdown",
   "id": "9e3c2346-ba81-4de6-8713-689325188f75",
   "metadata": {},
   "source": [
    "# 1.1 Proving Identities: $A \\setminus B = A \\cap B^\\complement$\n",
    "\n",
    "Given that $A$ and $B$ are sets and $\\exists x$ such that $(x \\in A \\land x \\in B)$.\n",
    "This means $x$ is an element of both sets $A$ and $B$.\n",
    "\n",
    "### $A \\setminus B$\n",
    "$A \\setminus B$ consists of elements that are in $A$ but not in $B$. Since we have an $x$ that is in both $A$ and $B$, $x$ cannot be in $A \\setminus B$. Therefore, $x \\notin A \\setminus B$.\n",
    "\n",
    "### $A \\cap B^\\complement$\n",
    "$A \\cap B^\\complement$ contains elements that are in $A$ and not in $B$. Since $x$ is in both $A$ and $B$, it cannot be in $A \\cap B^\\complement$ either. Thus, $x \\notin A \\cap B^\\complement$.\n",
    "\n",
    "Since $x$ is not in either side of the equation, $A \\setminus B$ is equal to $A \\cap B^\\complement$.\n"
   ]
  },
  {
   "cell_type": "markdown",
   "id": "277a631e-b6be-45b8-a4c6-a35d84a59be9",
   "metadata": {},
   "source": [
    "# 1.2 Proving Identities: $B = (B \\cap A) \\cup (B \\cap A^\\complement)$\n",
    "\n",
    "Given that $A$ and $B$ are sets and $\\exists x$ such that $(x \\in A \\land x \\in B)$.\n",
    "\n",
    "To show that the set $B$ is equal to the union of two sets: $(B \\cap A)$ and $(B \\cap A^\\complement)$.\n",
    "\n",
    "### Right-hand side: $(B \\cap A) \\cup (B \\cap A^\\complement)$\n",
    "The right-hand side is a union of two sets:\n",
    "\n",
    "1. $B \\cap A$: This set contains elements that are both in $B$ and in $A$.\n",
    "2. $B \\cap A^\\complement$: This set contains elements that are in $B$ but not in $A$.\n",
    "\n",
    "Any element in $B$ must belong to either $(B \\cap A)$ or $(B \\cap A^\\complement)$ or both, as it can be in $A$ or not in $A$. Thus, $(B \\cap A) \\cup (B \\cap A^\\complement)$ includes all elements in $B$.\n",
    "\n",
    "Since the left-hand side and the right-hand side contain the same elements, we have shown that $B = (B \\cap A) \\cup (B \\cap A^\\complement)$.\n"
   ]
  },
  {
   "cell_type": "markdown",
   "id": "07598575-248a-4c3b-92a5-f121063d9d24",
   "metadata": {},
   "source": [
    "# 1.3 Proving Identities: $B \\setminus A = B \\cap A^\\complement$\n",
    "\n",
    "Given that $A$ and $B$ are sets and $\\exists x$ such that $(x \\in A \\land x \\in B)$.\n",
    "Show that the set difference $B \\setminus A$ is equal to the intersection of set $B$ with the complement of set $A$.\n",
    "\n",
    "### $B \\setminus A$ (Left-hand Side)\n",
    "This set consists of elements that are in $B$ but not in $A$.\n",
    "\n",
    "### $B \\cap A^\\complement$ (Right-hand Side)\n",
    "This set is the intersection of set $B$ with the elements that are not in $A$.\n",
    "\n",
    "Let $x$ be an arbitrary element in $B \\setminus A$. Thus, $x$ is in $B$ but not in $A$. This also means $x$ must be in the set $B \\cap A^\\complement$ since $x$ is in $B$ and not in $A$. Similarly, any element in $B \\cap A^\\complement$ is also in $B \\setminus A$, as it's in $B$ but not in $A$.\n",
    "\n",
    "Therefore, the left-hand side and the right-hand side contain the same elements, which means $B \\setminus A = B \\cap A^\\complement$.\n",
    "\n"
   ]
  },
  {
   "cell_type": "markdown",
   "id": "b3e5ac4d-3b67-4e6b-afc0-6ebb3ab8b660",
   "metadata": {},
   "source": [
    "# 1.4 Proving Identities: $A \\cup B = A \\cup (B \\cap A^\\complement)$\n",
    "\n",
    "Given that $A$ and $B$ are sets and $\\exists x$ such that $(x \\in A \\land x \\in B)$.\n",
    "Show that the union of sets $A$ and $B$ is equal to the union of set $A$ with the intersection of set $B$ and the complement of set $A$.\n",
    "\n",
    "### $A \\cup B$ (Left-hand Side)\n",
    "An element $x$ belongs to the left-hand side if it's in either $A$ or $B$.\n",
    "\n",
    "### $A \\cup (B \\cap A^\\complement)$ (Right-hand Side)\n",
    "An element $x$ belongs to the right-hand side if it's in $A$ or if it's in both $B$ and not in $A$.\n",
    "If $x \\in A$, then it's in $A \\cup (B \\cap A^\\complement)$.\n",
    "If $x \\in B$ and $x \\notin A$, then it's in $A \\cup (B \\cap A^\\complement)$.\n",
    "\n",
    "Since an element $x$ belongs to either side of the equation, we have shown that $A \\cup B = A \\cup (B \\cap A^\\complement)$.\n"
   ]
  },
  {
   "cell_type": "markdown",
   "id": "edb1bdd7-18e3-4280-9878-f7db7beaa4f6",
   "metadata": {},
   "source": [
    "# 1.5 Proving Identities\n",
    "\n",
    "Given sets \\(A\\) and \\(B\\), where \\(\\exists x\\) such that \\(x \\in A \\land x \\in B\\).\n",
    "\n",
    "Show that \\$(\\left(\\bigcup_{i=1}^{\\infty} A_i^c\\right)^c = \\bigcap_{i=1}^{\\infty} A_i$\\).\n",
    "\n",
    "Solutions:\n",
    "\n",
    "Let's prove the given statement step by step:\n",
    "\n",
    "1. By De Morgan's law: \\$((A \\cap B)^c = A^c \\cup B^c$\\), we can rewrite the given statement as:\n",
    "   \n",
    "   $$\\left(\\bigcup_{i=1}^{\\infty} A_i^c\\right)^c = \\bigcap_{i=1}^{\\infty} A_i^c$$\n",
    "\n",
    "2. We are given that $(\\exists x)$ such that $(x \\in A \\land x \\in B)$. This means that there exists an element that is common to both sets $(A)$ and $(B)$.\n",
    "\n",
    "3. By De Morgan's law: $(x \\notin (A \\cap B)^c)$ is equivalent to $(x \\in A^c \\cup B^c)$.\n",
    "\n",
    "4. If $(x \\in A^c \\cup B^c)$, then $(x)$ is not in the intersection of the complements of sets $(A)$ and $(B)$, i.e., $(x \\notin \\bigcap_{i=1}^{\\infty} A_i^c)$.\n",
    "\n",
    "5. Therefore, $(x \\in \\left(\\bigcap_{i=1}^{\\infty} A_i^c\\right)^c)$.\n",
    "\n",
    "6. Since $(x \\in \\left(\\bigcap_{i=1}^{\\infty} A_i^c\\right)^c)$ and $(x)$ is a common element of all sets $(A_i)$, $(x)$ must be in the intersection of all sets $(A_i)$, i.e., $(x \\in \\bigcap_{i=1}^{\\infty} A_i)$.\n",
    "\n",
    "7. Thus, $(\\left(\\bigcap_{i=1}^{\\infty} A_i^c\\right)^c \\subseteq \\bigcap_{i=1}^{\\infty} A_i)$.\n",
    "\n",
    "8. To prove the reverse inclusion, suppose $(y \\in \\bigcap_{i=1}^{\\infty} A_i)$. This means that $(y)$ is an element in all sets $(A_i)$.\n",
    "\n",
    "9. Since $(y)$ is in all sets $(A_i)$, $(y)$ is not in any of their complements $(A_i^c)$, which implies $(y \\notin \\bigcup_{i=1}^{\\infty} A_i^c)$.\n",
    "\n",
    "10. Therefore, $(y \\in \\left(\\bigcup_{i=1}^{\\infty} A_i^c\\right)^c)$.\n",
    "\n",
    "11. Hence, $(\\bigcap_{i=1}^{\\infty} A_i \\subseteq \\left(\\bigcup_{i=1}^{\\infty} A_i^c\\right)^c)$.\n",
    "\n",
    "12. Combining both inclusions, we have $(\\left(\\bigcap_{i=1}^{\\infty} A_i^c\\right)^c = \\bigcap_{i=1}^{\\infty} A_i)$, which completes the proof.\n",
    "\n"
   ]
  },
  {
   "cell_type": "markdown",
   "id": "c337a1a5-7e33-4db0-949c-1a2cf36ed20f",
   "metadata": {},
   "source": [
    "# 1.6 Proving Identities $|A \\cup B| = |A| + |B| - |A \\cap B|$\n",
    "\n",
    "Given that $A$ and $B$ are sets and $\\exists x$ such that $(x \\in A \\land x \\in B)$.\n",
    "Show that the cardinality of the union of sets $A$ and $B$ is equal to the sum of the cardinalities of $A$ and $B$, minus the cardinality of their intersection.\n",
    "\n",
    "### $|A \\cup B|$ (Left-hand Side)\n",
    "The cardinality of $A \\cup B$ is the total number of distinct elements in the union of $A$ and $B$.\n",
    "\n",
    "### $|A| + |B| - |A \\cap B|$ (Right-hand Side)\n",
    "This is the sum of the cardinalities of $A$ and $B$, subtracting the cardinality of their common elements in $A \\cap B$.\n",
    "\n",
    "Let $n$ be the number of elements that exist in both sets $A$ and $B$. Then, we have $|A \\cap B| = n$.\n",
    "\n",
    "By the inclusion-exclusion principle:\n",
    "\\[|A \\cup B| = |A| + |B| - |A \\cap B| = |A| + |B| - n\\].\n",
    "\n",
    "Since $\\exists x$ such that $(x \\in A \\land x \\in B)$, $n$ is at least 1, meaning the common elements of $A$ and $B$ are not empty. Thus:\n",
    "\\[|A \\cup B| = |A| + |B| - |A \\cap B|\\].\n",
    "\n"
   ]
  },
  {
   "cell_type": "markdown",
   "id": "cf1e5eb8-6384-4075-baab-6772a23eb948",
   "metadata": {},
   "source": [
    "# 2.1 Sets and Subsets: $A \\subseteq B$\n",
    "\n",
    "Given that $A = \\{2, 3, 4, 5\\}$ and $B = \\{x \\in \\mathbb{N} \\mid x \\text{ is even}\\}$.\n",
    "Show that set $A$ is a subset of set $B$.\n",
    "\n",
    "Let $a$ be an arbitrary element in $A$. We have $A = \\{2, 3, 4, 5\\}$, and since $a \\in A$, we have four possibilities:\n",
    "\n",
    "1. If $a = 2$, then $a$ is even and satisfies the condition of set $B$.\n",
    "2. If $a = 3$, then $a$ is not even and does not satisfy the condition of set $B$.\n",
    "3. If $a = 4$, then $a$ is even and satisfies the condition of set $B$.\n",
    "4. If $a = 5$, then $a$ is not even and does not satisfy the condition of set $B$.\n",
    "\n",
    "Since every possible value of $a$ has been considered, and $a$ is either even and in $B$ or not even and not in $B$, we can conclude that $A \\subseteq B$.\n"
   ]
  },
  {
   "cell_type": "markdown",
   "id": "da863b5c-a68e-4df1-b240-07db035b3d51",
   "metadata": {},
   "source": [
    "# 2.2 Sets and Subsets:\n",
    "Given Sets:\n",
    "\n",
    "Let sets $\\textbf{A} = \\{x \\mid x \\in \\mathbb{Z}, 0 \\leq x \\leq 9\\}$, $\\textbf{B} = \\{2, 4, 6, 8\\}$, $\\textbf{C} = \\{1, 3, 5, 7, 9\\}$, and $\\textbf{D} = \\{3, 4, 5\\}$.\n",
    "\n",
    "Find a set $\\textbf{X}$ which will satisfy the following conditions:\n",
    "1. $\\textbf{X}$ and $\\textbf{B}$ are disjoint.\n",
    "2. $\\textbf{X} \\subseteq \\textbf{D}$ but $\\textbf{X} \\nsubseteq \\textbf{B}$.\n",
    "3. $\\textbf{X} \\subseteq \\textbf{A}$ but $\\textbf{X} \\not\\subset \\textbf{C}$.\n",
    "\n",
    "Let $\\textbf{X}$ to be the set of even numbers in $\\textbf{D}$ that are not in $\\textbf{B}$:\n",
    "\n",
    "$$\\textbf{X} = \\{3\\}.$$\n",
    "\n",
    "\n",
    "Condition 1: Disjoint with $\\textbf{B}$\n",
    "Since $\\textbf{B} = \\{2, 4, 6, 8\\}$, we can choose any elements from $\\textbf{A}$, $\\textbf{C}$, or $\\textbf{D}$ that are not in $\\textbf{B}$. Let's choose $\\textbf{X} = \\{3\\}$.\n",
    "\n",
    "Condition 2: $\\textbf{X} \\subseteq \\textbf{D}$ and $\\textbf{X} \\nsubseteq \\textbf{B}$\n",
    "The set $\\textbf{X} = \\{3\\}$ satisfies this condition since $3$ is in $\\textbf{D}$ but not in $\\textbf{B}$.\n",
    "\n",
    "Condition 3: $\\textbf{X} \\subseteq \\textbf{A}$ and $\\textbf{X} \\not\\subseteq \\textbf{C}$\n",
    "The set $\\textbf{X} = \\{3\\}$ satisfies this condition as well since $3$ is in $\\textbf{A}$ but not in $\\textbf{C}$.\n"
   ]
  },
  {
   "cell_type": "markdown",
   "id": "02856d65-14c8-4431-b448-09af44b0eaef",
   "metadata": {},
   "source": [
    "# 3. Set Operations: \n",
    "Manual Solutions:\n",
    "Given sets:\n",
    "\n",
    "Universal set $U = \\{1, 2, 3, 4, 5\\}$\n",
    "Set $A = \\{1, 2, 3, 4, 5\\}$\n",
    "Set $B = \\{4, 5, 6, 7\\}$\n",
    "Set $C = \\{5, 6, 7, 8, 9\\}$\n",
    "Set $D = \\{1, 3, 5, 7, 9\\}$\n",
    "Set $E = \\{2, 4, 6, 8\\}$\n",
    "Set $F = \\{1, 5, 9\\}$\n",
    "\n",
    "1. $C \\oplus D$\n",
    "The symmetric difference of sets $C$ and $D$ is given by:\n",
    "\\[C $\\oplus$ D = (C $\\cup$ D) $\\setminus$ (C $\\cap$ D)\\]\n",
    "\n",
    "Solutions:\n",
    "\\[C $\\cup$ D = $\\{5, 6, 7, 8, 9\\} \\cup \\{1, 3, 5, 7, 9\\}$ = $\\{1, 3, 5, 6, 7, 8, 9\\}$\\]\n",
    "\\[C $\\cap$ D = $\\{5, 6, 7, 8, 9\\} \\cap \\{1, 3, 5, 7, 9\\}$ = $\\{5, 7, 9\\}$\\]\n",
    "\\[C $\\oplus$ D = $\\{1, 3, 6, 8\\}$\\]\n",
    "\n",
    "2. $A \\setminus B$\n",
    "The set difference of $A$ and $B$ is given by:\n",
    "\\[A $\\setminus$ B = A - (A $\\cap$ B)\\]\n",
    "\n",
    "Solutions:\n",
    "\\[A $\\cap$ B = $\\{1, 2, 3, 4, 5\\} \\cap \\{4, 5, 6, 7\\}$ = $\\{4, 5\\}$\\]\n",
    "\\[A $\\setminus$ B = $\\{1, 2, 3\\}$\\]\n",
    "\n",
    "3. $B \\setminus A$\n",
    "The set difference of $B$ and $A$ is given by:\n",
    "\\[B $\\setminus$ A = B - (B $\\cap$ A)\\]\n",
    "\n",
    "Solutions:\n",
    "\\[B $\\cap$ A = $\\{4, 5, 6, 7\\} \\cap \\{1, 2, 3, 4, 5\\}$ = $\\{4, 5\\}$\\]\n",
    "\\[B $\\setminus$ A = $\\{6, 7\\}$\\]\n",
    "\n",
    "4. $E \\oplus F$\n",
    "The symmetric difference of sets $E$ and $F$ is given by:\n",
    "\\[E $\\oplus$ F = (E $\\cup$ F) - (E $\\cap$ F)\\]\n",
    "\n",
    "Solutions:\n",
    "\\[E $\\cup$ F = $\\{2, 4, 6, 8\\} \\cup \\{1, 5, 9\\}$ = $\\{1, 2, 4, 5, 6, 8, 9\\}$\\]\n",
    "\\[E $\\cap$ F = $\\{2, 4, 6, 8\\} \\cap \\{1, 5, 9\\} = \\{2, 4, 6, 8\\}$\\]\n",
    "\\[E $\\oplus$ F = $\\{1, 2, 4, 5, 6, 8, 9\\}$\\]\n"
   ]
  },
  {
   "cell_type": "code",
   "execution_count": 3,
   "id": "c0fc013b-d2f3-45a4-b317-79d49c858e0c",
   "metadata": {
    "tags": []
   },
   "outputs": [
    {
     "name": "stdout",
     "output_type": "stream",
     "text": [
      "1. C⊕D: {1, 3, 6, 8}\n",
      "2. A∖B: {1, 2, 3}\n",
      "3. B∖A: {6, 7}\n",
      "4. E⊕F: {1, 2, 4, 5, 6, 8, 9}\n"
     ]
    }
   ],
   "source": [
    "# Given sets\n",
    "U = {1, 2, 3, 4, 5}\n",
    "A = {1, 2, 3, 4, 5}\n",
    "B = {4, 5, 6, 7}\n",
    "C = {5, 6, 7, 8, 9}\n",
    "D = {1, 3, 5, 7, 9}\n",
    "E = {2, 4, 6, 8}\n",
    "F = {1, 5, 9}\n",
    "\n",
    "# 1. C⊕D\n",
    "sym_diff_CD = C^D\n",
    "print(\"1. C⊕D:\", sym_diff_CD)\n",
    "\n",
    "# 2. A∖B\n",
    "set_diff_AB = A - B\n",
    "print(\"2. A∖B:\", set_diff_AB)\n",
    "\n",
    "# 3. B∖A\n",
    "set_diff_BA = B - A\n",
    "print(\"3. B∖A:\", set_diff_BA)\n",
    "\n",
    "# 4. E⊕F\n",
    "sym_diff_EF = E^F\n",
    "print(\"4. E⊕F:\", sym_diff_EF)\n"
   ]
  },
  {
   "cell_type": "code",
   "execution_count": 16,
   "id": "1248c285-74f2-410a-90a4-7d3dbc6fc2be",
   "metadata": {
    "tags": []
   },
   "outputs": [
    {
     "data": {
      "image/png": "[encoded data removed]",
      "text/plain": [
       "<Figure size 640x480 with 1 Axes>"
      ]
     },
     "metadata": {},
     "output_type": "display_data"
    },
    {
     "name": "stdout",
     "output_type": "stream",
     "text": [
      "Number of people who read at least one magazine: 100\n",
      "Number of people who read exactly one magazine: 56\n"
     ]
    }
   ],
   "source": [
    "import matplotlib.pyplot as plt\n",
    "from matplotlib_venn import venn3\n",
    "\n",
    "# Given data\n",
    "total_people = 120\n",
    "read_newsweek = 65\n",
    "read_times = 45\n",
    "read_fortune = 42\n",
    "read_newsweek_times = 20\n",
    "read_newsweek_fortune = 25\n",
    "read_times_fortune = 15\n",
    "read_all = 8\n",
    "\n",
    "# Calculate the number of people who read exactly one magazine\n",
    "read_only_newsweek = read_newsweek - read_newsweek_times - read_newsweek_fortune + read_all\n",
    "read_only_times = read_times - read_newsweek_times - read_times_fortune + read_all\n",
    "read_only_fortune = read_fortune - read_newsweek_fortune - read_times_fortune + read_all\n",
    "\n",
    "# depict venn diagram\n",
    "venn = venn3(subsets=(read_newsweek, read_times, read_newsweek_times, read_fortune, read_newsweek_fortune, read_times_fortune, read_all),\n",
    "\t\tset_labels=('Newsweek', 'Times', 'Fortune'))\n",
    "\n",
    "# assign title\n",
    "plt.title(\"Venn Diagram Magazine Readers\")\n",
    "plt.show()\n",
    "\n",
    "\n",
    "# Calculate the number of people who read at least one magazine\n",
    "read_at_least_one = read_newsweek + read_times + read_fortune - read_newsweek_times - read_times_fortune - read_newsweek_fortune + read_all\n",
    "\n",
    "# Calculate the number of people who read exactly one magazine\n",
    "read_exactly_one = read_only_newsweek + read_only_times + read_only_fortune\n",
    "\n",
    "print(\"Number of people who read at least one magazine:\", read_at_least_one)\n",
    "print(\"Number of people who read exactly one magazine:\", read_exactly_one)\n"
   ]
  },
  {
   "cell_type": "code",
   "execution_count": 18,
   "id": "f9af9eb9-00f8-4eea-ae66-4cba3d5f9ac6",
   "metadata": {
    "tags": []
   },
   "outputs": [
    {
     "data": {
      "image/png": "[encoded data removed]",
      "text/plain": [
       "<Figure size 800x600 with 1 Axes>"
      ]
     },
     "metadata": {},
     "output_type": "display_data"
    },
    {
     "name": "stdout",
     "output_type": "stream",
     "text": [
      "Number of cars with R only: 2\n",
      "Number of cars with W only: 5\n",
      "Number of cars with A only: 4\n",
      "Number of cars with both A and R but no W: 6\n",
      "Number of cars with both R and W but no A: 1\n",
      "Number of cars with exactly one option: 11\n",
      "Number of cars with at least one: 23\n",
      "Number of cars with no options: 2\n"
     ]
    }
   ],
   "source": [
    "import matplotlib.pyplot as plt\n",
    "from matplotlib_venn import venn3\n",
    "\n",
    "# Given information\n",
    "n_cars = 25\n",
    "n_A = 15\n",
    "n_R = 12\n",
    "n_W = 11\n",
    "n_AR = 9\n",
    "n_AW = 5\n",
    "n_RW = 4\n",
    "n_all_three = 3\n",
    "\n",
    "# Calculate set sizes\n",
    "venn_labels = {'100': n_A - n_AW - n_AR + n_all_three,\n",
    "               '010': n_R - n_RW - n_AR + n_all_three,\n",
    "               '001': n_W - n_RW - n_AW + n_all_three,\n",
    "               '110': n_AR - n_all_three,\n",
    "               '101': n_AW - n_all_three,\n",
    "               '011': n_RW - n_all_three,\n",
    "               '111': n_all_three}\n",
    "\n",
    "# Create the Venn diagram\n",
    "plt.figure(figsize=(8, 6))\n",
    "venn = venn3(subsets=venn_labels, set_labels=('A', 'R', 'W'))\n",
    "plt.title(\"Venn Diagram of Car Options\")\n",
    "plt.show()\n",
    "\n",
    "R_only = n_R- n_AR- n_RW +n_all_three\n",
    "A_only = n_A - n_AR - n_AW + n_all_three\n",
    "W_only = n_W - n_RW - n_AW + n_all_three\n",
    "AR_only = n_AR - n_all_three\n",
    "RW_only = n_RW - n_all_three\n",
    "only1 = R_only + W_only + A_only\n",
    "least1 = n_A + n_R + n_W - n_AR - n_AW - n_RW + n_all_three\n",
    "non = n_cars - least1\n",
    "\n",
    "\n",
    "print(\"Number of cars with R only:\", R_only)\n",
    "print(\"Number of cars with W only:\", W_only)\n",
    "print(\"Number of cars with A only:\", A_only)\n",
    "print(\"Number of cars with both A and R but no W:\", AR_only)\n",
    "print(\"Number of cars with both R and W but no A:\", RW_only)\n",
    "print(\"Number of cars with exactly one option:\", only1)\n",
    "print(\"Number of cars with at least one:\", least1)\n",
    "print(\"Number of cars with no options:\", non)"
   ]
  },
  {
   "cell_type": "code",
   "execution_count": null,
   "id": "347a2283-cc54-466b-ba75-8bfbe2ec552e",
   "metadata": {},
   "outputs": [],
   "source": []
  }
 ],
 "metadata": {
  "kernelspec": {
   "display_name": "Python 3 (ipykernel)",
   "language": "python",
   "name": "python3"
  },
  "language_info": {
   "codemirror_mode": {
    "name": "ipython",
    "version": 3
   },
   "file_extension": ".py",
   "mimetype": "text/x-python",
   "name": "python",
   "nbconvert_exporter": "python",
   "pygments_lexer": "ipython3",
   "version": "3.11.4"
  }
 },
 "nbformat": 4,
 "nbformat_minor": 5
}
